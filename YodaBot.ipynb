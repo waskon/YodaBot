{
 "cells": [
  {
   "cell_type": "code",
   "execution_count": 4,
   "id": "b4845dca",
   "metadata": {},
   "outputs": [
    {
     "name": "stdout",
     "output_type": "stream",
     "text": [
      "file: yoda_conv1.txt\n",
      "file: yoda_conv2.txt\n",
      "file: yoda_conv3.txt\n",
      "file: yoda_conv4.txt\n"
     ]
    }
   ],
   "source": [
    "\n",
    "yoda_convs = []\n",
    "\n",
    "for i in range(1,5):\n",
    "    for j,line in enumerate(open('yoda_conv%d.txt'%i, 'r+')):\n",
    "        yoda_convs.append(str(line.replace(\"\\n\", \"\")))\n",
    "    print(\"file: \" + 'yoda_conv%d.txt'%i)\n",
    "\n",
    "# print(yoda_convs)"
   ]
  },
  {
   "cell_type": "code",
   "execution_count": 11,
   "id": "b95999b3",
   "metadata": {},
   "outputs": [
    {
     "name": "stderr",
     "output_type": "stream",
     "text": [
      "[nltk_data] Downloading package averaged_perceptron_tagger to\n",
      "[nltk_data]     C:\\Users\\Konrad\\AppData\\Roaming\\nltk_data...\n",
      "[nltk_data]   Package averaged_perceptron_tagger is already up-to-\n",
      "[nltk_data]       date!\n",
      "[nltk_data] Downloading package punkt to\n",
      "[nltk_data]     C:\\Users\\Konrad\\AppData\\Roaming\\nltk_data...\n",
      "[nltk_data]   Package punkt is already up-to-date!\n",
      "[nltk_data] Downloading package stopwords to\n",
      "[nltk_data]     C:\\Users\\Konrad\\AppData\\Roaming\\nltk_data...\n",
      "[nltk_data]   Package stopwords is already up-to-date!\n"
     ]
    }
   ],
   "source": [
    "from chatterbot import ChatBot\n",
    "import os\n",
    "import pyttsx3\n",
    "from tkinter import *\n",
    "from PIL import Image, ImageTk\n",
    "\n",
    "chatbot = ChatBot(\"YodaBot\", storage_adapter='chatterbot.storage.SQLStorageAdapter',\n",
    "    logic_adapters=[\n",
    "        {\n",
    "        'import_path': 'chatterbot.logic.BestMatch',\n",
    "        \"statement_comparison_function\": 'chatterbot.comparisons.LevenshteinDistance',\n",
    "        'default_response': 'I am sorry. I am still learning!',\n",
    "        'maximum_similarity_threshold': 0.80,\n",
    "        },\n",
    "        {\n",
    "        'import_path': 'chatterbot.logic.SpecificResponseAdapter',\n",
    "        'input_text': 'May the force be with you.',\n",
    "        'output_text': 'May the force be with you.'\n",
    "        }\n",
    "    ],\n",
    "    preprocessors=['chatterbot.preprocessors.clean_whitespace'],\n",
    "    # database_uri='sqlite:///database.sqlite3'\n",
    ")\n",
    "\n",
    "\n",
    "\n",
    "from chatterbot.trainers import ListTrainer\n",
    "trainer = ListTrainer(chatbot)\n"
   ]
  },
  {
   "cell_type": "code",
   "execution_count": 12,
   "id": "44b4ee74",
   "metadata": {},
   "outputs": [
    {
     "name": "stdout",
     "output_type": "stream",
     "text": [
      "List Trainer: [####################] 100%\n"
     ]
    }
   ],
   "source": [
    "trainer.train(\"chatterbot.corpus.english.greetings\")"
   ]
  },
  {
   "cell_type": "code",
   "execution_count": 13,
   "id": "befc8671",
   "metadata": {},
   "outputs": [
    {
     "name": "stdout",
     "output_type": "stream",
     "text": [
      "List Trainer: [####################] 100%\n"
     ]
    }
   ],
   "source": [
    "trainer.train(\"chatterbot.corpus.english.conversations\")"
   ]
  },
  {
   "cell_type": "code",
   "execution_count": 14,
   "id": "ee3d4fcf",
   "metadata": {},
   "outputs": [
    {
     "name": "stdout",
     "output_type": "stream",
     "text": [
      "List Trainer: [####################] 100%\n"
     ]
    }
   ],
   "source": [
    "trainer.train(yoda_convs)"
   ]
  },
  {
   "cell_type": "code",
   "execution_count": 29,
   "id": "83a1823b",
   "metadata": {},
   "outputs": [],
   "source": [
    "GREEN = \"#457459\"\n",
    "root = Tk()\n",
    "root.geometry(\"600x600\")\n",
    "root.title(\"Chat with YodaBot\")\n",
    "root.config(bg=GREEN)\n",
    "root.grid_rowconfigure(0, weight=1)\n",
    "root.grid_columnconfigure(0, weight=1)\n",
    "\n",
    "headerFrame = Frame(root, bg=GREEN, width=500, height=200)\n",
    "headerFrame.grid(row=1, column=0, pady=10)\n",
    "headerFrame.grid_rowconfigure(1, weight=1)\n",
    "headerFrame.grid_columnconfigure(1, weight=1)\n",
    "\n",
    "centerFrame = Frame(root, bg=GREEN, width=500, height=400)\n",
    "centerFrame.grid(row=2, column=0, pady=10)\n",
    "centerFrame.grid_rowconfigure(1, weight=1)\n",
    "centerFrame.grid_columnconfigure(1, weight=1)\n",
    "\n",
    "bottomFrame = Frame(root, bg=GREEN, width=500, height=150)\n",
    "bottomFrame.grid(row=3, column=0, pady=10)\n",
    "bottomFrame.grid_rowconfigure(1, weight=1)\n",
    "bottomFrame.grid_columnconfigure(1, weight=1)\n",
    "\n",
    "\n",
    "#header\n",
    "image=Image.open('yoda.png')\n",
    "\n",
    "img=image.resize((200, 150))\n",
    "\n",
    "logo=ImageTk.PhotoImage(img)\n",
    "logoLabel = Label(headerFrame, image=logo, bg=GREEN)\n",
    "logoLabel.grid(row=0, column=1, sticky = W)\n",
    "\n",
    "logoText = Label(headerFrame, text=\"YodaBot\", bg=GREEN, fg=\"white\", font=(\"Arial\", 35))\n",
    "logoText.grid(row=0, column=2, sticky= E)\n",
    "\n",
    "#center\n",
    "scroll = Scrollbar(centerFrame)\n",
    "scroll.pack(side=RIGHT)\n",
    "\n",
    "textarea=Text(centerFrame,font=('Arial', 20),height=10,yscrollcommand=scroll.set\n",
    "              ,wrap='word')\n",
    "textarea.pack(side=LEFT)\n",
    "scroll.config(command=textarea.yview)\n",
    "\n",
    "#bottom\n",
    "userInput = Entry(bottomFrame, font=('Arial', 20))\n",
    "userInput.pack(side=LEFT, fill=X, padx=10)\n",
    "\n",
    "def reply():\n",
    "    user = userInput.get()\n",
    "    user = user.capitalize()\n",
    "    botResponse = chatbot.get_response(user)\n",
    "    textarea.insert(END, 'You: '+user+'\\n\\n')\n",
    "    textarea.insert(END, 'YodaBot: '+str(botResponse)+'\\n\\n')\n",
    "    userInput.delete(0, END)\n",
    "\n",
    "button = Button(bottomFrame, text=\"Send\", command=reply)\n",
    "button.pack(side=RIGHT)\n",
    "\n",
    "def click(event):\n",
    "    button.invoke()\n",
    "\n",
    "root.bind('<Return>', click)\n",
    "root.mainloop()\n",
    "\n"
   ]
  },
  {
   "cell_type": "code",
   "execution_count": null,
   "id": "44700ff8",
   "metadata": {},
   "outputs": [],
   "source": [
    "# while True:\n",
    "#     try:\n",
    "#         bot_reply = chatbot.get_response(input())\n",
    "#         print(bot_reply)\n",
    "#     # Press ctrl-c or ctrl-d on the keyboard to exit\n",
    "#     except (KeyboardInterrupt, EOFError, SystemExit):\n",
    "#         break"
   ]
  },
  {
   "cell_type": "code",
   "execution_count": null,
   "id": "a5420b70",
   "metadata": {},
   "outputs": [],
   "source": []
  }
 ],
 "metadata": {
  "kernelspec": {
   "display_name": "Python 3 (ipykernel)",
   "language": "python",
   "name": "python3"
  },
  "language_info": {
   "codemirror_mode": {
    "name": "ipython",
    "version": 3
   },
   "file_extension": ".py",
   "mimetype": "text/x-python",
   "name": "python",
   "nbconvert_exporter": "python",
   "pygments_lexer": "ipython3",
   "version": "3.9.12"
  }
 },
 "nbformat": 4,
 "nbformat_minor": 5
}
